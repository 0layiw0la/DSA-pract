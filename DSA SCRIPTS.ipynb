{
 "cells": [
  {
   "cell_type": "markdown",
   "id": "ef9e1022",
   "metadata": {},
   "source": [
    "<h1> QUICK SORT </h1>\n",
    "\n",
    "* time complexity = O(nlogn) (average) O(n^2) worst case.\n",
    "\n",
    "* space complexity = O(nlogn) (average) O(n) worst case."
   ]
  },
  {
   "cell_type": "code",
   "execution_count": 1,
   "id": "a7189db7",
   "metadata": {},
   "outputs": [
    {
     "name": "stdout",
     "output_type": "stream",
     "text": [
      "[3, 4, 5, 6, 10, 30, 40, 50, 60]\n"
     ]
    }
   ],
   "source": [
    "def quick(array):\n",
    "    if len(array) < 2:\n",
    "        return array\n",
    "    pivot=array[0]\n",
    "    less=[i for i in array[1:] if i <= pivot]\n",
    "    greater=[i for i in array[1:] if i >= pivot]\n",
    "    return quick(less) + [pivot] + quick(greater)\n",
    "print(quick([60,30,40,50,10,3,4,5,6]))"
   ]
  },
  {
   "cell_type": "markdown",
   "id": "41973ea7",
   "metadata": {},
   "source": [
    "<h1> BINARY SEARCH </h1>\n",
    "\n",
    "* time complexity= O(logn)\n",
    "* Space complexity = O(1)"
   ]
  },
  {
   "cell_type": "code",
   "execution_count": 4,
   "id": "f7c2c748",
   "metadata": {},
   "outputs": [
    {
     "name": "stdout",
     "output_type": "stream",
     "text": [
      "13\n"
     ]
    }
   ],
   "source": [
    "# \n",
    "def bina(item,array):\n",
    "    quick(array)\n",
    "    low=0\n",
    "    high=len(array)-1\n",
    "    while low <= high:\n",
    "        mid = (low+high)\n",
    "        guess=array[mid]\n",
    "        if guess == item:\n",
    "            return mid\n",
    "        elif guess > item:\n",
    "            high -= 1\n",
    "        elif guess > item:\n",
    "            mid -= 1\n",
    "        return None\n",
    "print(bina(12,[9, 2, 5, 1, 7, 6,5,8,9,4,5,7,10,12]))    "
   ]
  },
  {
   "cell_type": "markdown",
   "id": "862ca6f6",
   "metadata": {},
   "source": [
    " Selection sort"
   ]
  },
  {
   "cell_type": "code",
   "execution_count": 10,
   "id": "5527198a",
   "metadata": {},
   "outputs": [
    {
     "name": "stdout",
     "output_type": "stream",
     "text": [
      "[2, 3, 5, 6, 10]\n",
      "3\n"
     ]
    }
   ],
   "source": [
    "def findsmallest(arr):\n",
    "    smallest_index = 0\n",
    "    smallest = arr[0]\n",
    "    for i in range(1,len(arr)):\n",
    "        if arr[i] < smallest:\n",
    "            smallest = arr[i]\n",
    "            smallest_index = i\n",
    "    return smallest_index\n",
    "\n",
    "def selectionsort(arr):\n",
    "    result=[]\n",
    "    for i in range(len(arr)):\n",
    "        smallest = findsmallest(arr)\n",
    "        result.append(arr.pop(smallest))\n",
    "    return result\n",
    "print(selectionsort([5, 3, 6, 2, 10]))"
   ]
  },
  {
   "cell_type": "code",
   "execution_count": null,
   "id": "7418ec15",
   "metadata": {},
   "outputs": [],
   "source": []
  },
  {
   "cell_type": "code",
   "execution_count": null,
   "id": "fd5a2032",
   "metadata": {},
   "outputs": [],
   "source": []
  }
 ],
 "metadata": {
  "kernelspec": {
   "display_name": "Python 3 (ipykernel)",
   "language": "python",
   "name": "python3"
  },
  "language_info": {
   "codemirror_mode": {
    "name": "ipython",
    "version": 3
   },
   "file_extension": ".py",
   "mimetype": "text/x-python",
   "name": "python",
   "nbconvert_exporter": "python",
   "pygments_lexer": "ipython3",
   "version": "3.10.9"
  }
 },
 "nbformat": 4,
 "nbformat_minor": 5
}
