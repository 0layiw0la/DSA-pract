{
 "cells": [
  {
   "cell_type": "markdown",
   "id": "736c47f9",
   "metadata": {},
   "source": [
    "<h1> QUICK SORT </h1>\n",
    "\n",
    "* time complexity = O(nlogn) (average) O(n^2) worst case.\n",
    "\n",
    "* space complexity = O(nlogn) (average) O(n) worst case."
   ]
  },
  {
   "cell_type": "code",
   "execution_count": 1,
   "id": "4da52bf7",
   "metadata": {},
   "outputs": [
    {
     "name": "stdout",
     "output_type": "stream",
     "text": [
      "[3, 4, 5, 6, 10, 30, 40, 50, 60]\n"
     ]
    }
   ],
   "source": [
    "def quick(array):\n",
    "    if len(array) < 2:\n",
    "        return array\n",
    "    pivot=array[0]\n",
    "    less=[i for i in array[1:] if i <= pivot]\n",
    "    greater=[i for i in array[1:] if i >= pivot]\n",
    "    return quick(less) + [pivot] + quick(greater)\n",
    "print(quick([60,30,40,50,10,3,4,5,6]))"
   ]
  },
  {
   "cell_type": "markdown",
   "id": "1e4849a1",
   "metadata": {},
   "source": [
    "<h1> BINARY SEARCH </h1>\n",
    "time complexity= O"
   ]
  },
  {
   "cell_type": "code",
   "execution_count": 3,
   "id": "e4d3d5eb",
   "metadata": {},
   "outputs": [
    {
     "name": "stdout",
     "output_type": "stream",
     "text": [
      "13\n"
     ]
    }
   ],
   "source": [
    "# \n",
    "def bina(item,array):\n",
    "    quick(array)\n",
    "    low=0\n",
    "    high=len(array)-1\n",
    "    while low <= high:\n",
    "        mid = (low+high)\n",
    "        guess=array[mid]\n",
    "        if guess == item:\n",
    "            return mid\n",
    "        elif guess > item:\n",
    "            high -= 1\n",
    "        elif guess > item:\n",
    "            mid -= 1\n",
    "        return None\n",
    "print(bina(12,[9, 2, 5, 1, 7, 6,5,8,9,4,5,7,10,12]))    "
   ]
  },
  {
   "cell_type": "code",
   "execution_count": null,
   "id": "25edba07",
   "metadata": {},
   "outputs": [],
   "source": [
    " "
   ]
  }
 ],
 "metadata": {
  "kernelspec": {
   "display_name": "Python 3 (ipykernel)",
   "language": "python",
   "name": "python3"
  },
  "language_info": {
   "codemirror_mode": {
    "name": "ipython",
    "version": 3
   },
   "file_extension": ".py",
   "mimetype": "text/x-python",
   "name": "python",
   "nbconvert_exporter": "python",
   "pygments_lexer": "ipython3",
   "version": "3.10.9"
  }
 },
 "nbformat": 4,
 "nbformat_minor": 5
}
