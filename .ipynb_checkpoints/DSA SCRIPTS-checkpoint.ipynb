{
 "cells": [
  {
   "cell_type": "markdown",
   "id": "ef9e1022",
   "metadata": {},
   "source": [
    "<h1> QUICK SORT </h1>\n",
    "\n",
    "* time complexity = O(nlogn) (average) O(n^2) worst case.\n",
    "\n",
    "* space complexity = O(nlogn) (average) O(n) worst case."
   ]
  },
  {
   "cell_type": "code",
   "execution_count": 22,
   "id": "a7189db7",
   "metadata": {},
   "outputs": [
    {
     "name": "stdout",
     "output_type": "stream",
     "text": [
      "[1, 2, 4, 5, 5, 5, 6, 7, 7, 8, 9, 9, 10, 12]\n"
     ]
    }
   ],
   "source": [
    "def quick(array):\n",
    "    if len(array) < 2: #if the list has only one element or is empty simply return it\n",
    "        return array\n",
    "    pivot=array[0] #The pivot is our what we use to split the list\n",
    "    less=[i for i in array[1:] if i < pivot] # a list of all elements of the array lesser than the pivot\n",
    "    equal = [i for i in array if i == pivot] # makes sure duplicates are handled properly\n",
    "    greater=[i for i in array[1:] if i > pivot] # a list of all elements greater than the pivot\n",
    "    return quick(less) + equal + quick(greater) # calls it self on each individual split.\n",
    "print(quick([9, 2, 5, 1, 7, 6,5,8,9,4,5,7,10,12]))"
   ]
  },
  {
   "cell_type": "code",
   "execution_count": null,
   "id": "ec581184",
   "metadata": {},
   "outputs": [],
   "source": []
  },
  {
   "cell_type": "markdown",
   "id": "41973ea7",
   "metadata": {},
   "source": [
    "<h1> BINARY SEARCH </h1>\n",
    "\n",
    "* time complexity= O(logn)\n",
    "* Space complexity = O(1)"
   ]
  },
  {
   "cell_type": "code",
   "execution_count": 24,
   "id": "f7c2c748",
   "metadata": {},
   "outputs": [
    {
     "name": "stdout",
     "output_type": "stream",
     "text": [
      "10\n"
     ]
    }
   ],
   "source": [
    "# \n",
    "def bina(item,array):\n",
    "    array = quick(array) # we first sort the array\n",
    "    low = 0  # We use high and low to track where we are in the list\n",
    "    high = len(array) - 1\n",
    "    while low <= high: #while the array has elements\n",
    "        mid = (low + high) // 2 #computes index of middle value\n",
    "        guess = array[mid]\n",
    "        if guess == item:\n",
    "            return mid\n",
    "        elif guess < item:\n",
    "            low = mid + 1\n",
    "        else:\n",
    "            high = mid - 1\n",
    "    return None\n",
    "print(bina(9,[9, 2, 5, 1, 7, 6,5,8,9,4,5,7,10,12]))    "
   ]
  },
  {
   "cell_type": "markdown",
   "id": "862ca6f6",
   "metadata": {},
   "source": [
    " <h1>Selection sort</h1>\n",
    " \n",
    " * time complexity = O(n^2)\n",
    " * Space complexity = O(1)"
   ]
  },
  {
   "cell_type": "code",
   "execution_count": 25,
   "id": "5527198a",
   "metadata": {},
   "outputs": [
    {
     "name": "stdout",
     "output_type": "stream",
     "text": [
      "[2, 3, 5, 6, 10]\n"
     ]
    }
   ],
   "source": [
    "def findsmallest(arr):\n",
    "    smallest_index = 0 # picks the first element as the smallest\n",
    "    smallest = arr[0]\n",
    "    for i in range(1,len(arr)):\n",
    "        if arr[i] < smallest: # if the ith element is less than the current smallest replace the smallest\n",
    "            smallest = arr[i]\n",
    "            smallest_index = i\n",
    "    return smallest_index # return the index of the smallest element\n",
    "\n",
    "def selectionsort(arr):\n",
    "    result=[]\n",
    "    for i in range(len(arr)): #loop to make the process repeat till the array is empty\n",
    "        smallest = findsmallest(arr) # finds the smallest element\n",
    "        result.append(arr.pop(smallest)) #pops the smallest element out of the original array and appends to new array\n",
    "    return result\n",
    "print(selectionsort([5, 3, 6, 2, 10]))"
   ]
  },
  {
   "cell_type": "markdown",
   "id": "41f005c4",
   "metadata": {},
   "source": [
    "<h1> Hash Tables </h1>\n",
    "\n",
    "* They are pretty much dictionaries so i'll be demonstarting different ways to use them to you (well me)\n",
    "* time complexity for insertion deletion and lookup average case is O(1) worst case but for insertion and deletion only is O(n)\n",
    "* although it can theoretically degrade to O(n) for lookup as well but is highly unlikely\n",
    "* space complexity is O(n)"
   ]
  },
  {
   "cell_type": "code",
   "execution_count": 22,
   "id": "fd5a2032",
   "metadata": {},
   "outputs": [],
   "source": [
    "# Imagine you have voters and need to make sure no one votes more than once (we will use names although a unique id is more appropriate)\n",
    "voters= {}\n",
    "def check(name):\n",
    "    if voters.get(name):\n",
    "        return \"Has voted prior\"\n",
    "    else:\n",
    "        voters[name]=True\n",
    "        return \"let them vote\""
   ]
  },
  {
   "cell_type": "code",
   "execution_count": 23,
   "id": "b4c1d4d1",
   "metadata": {},
   "outputs": [
    {
     "name": "stdout",
     "output_type": "stream",
     "text": [
      "john doe\n"
     ]
    },
    {
     "data": {
      "text/plain": [
       "'let them vote'"
      ]
     },
     "execution_count": 23,
     "metadata": {},
     "output_type": "execute_result"
    }
   ],
   "source": [
    "name = input()\n",
    "check(name)"
   ]
  },
  {
   "cell_type": "code",
   "execution_count": null,
   "id": "fff42e0d",
   "metadata": {},
   "outputs": [],
   "source": [
    "# hash tables are also used for caching"
   ]
  },
  {
   "cell_type": "code",
   "execution_count": null,
   "id": "56ed6b3d",
   "metadata": {},
   "outputs": [],
   "source": []
  }
 ],
 "metadata": {
  "kernelspec": {
   "display_name": "Python 3 (ipykernel)",
   "language": "python",
   "name": "python3"
  },
  "language_info": {
   "codemirror_mode": {
    "name": "ipython",
    "version": 3
   },
   "file_extension": ".py",
   "mimetype": "text/x-python",
   "name": "python",
   "nbconvert_exporter": "python",
   "pygments_lexer": "ipython3",
   "version": "3.10.9"
  }
 },
 "nbformat": 4,
 "nbformat_minor": 5
}
